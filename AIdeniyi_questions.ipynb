{
 "cells": [
  {
   "cell_type": "code",
   "execution_count": 37,
   "metadata": {},
   "outputs": [
    {
     "name": "stdout",
     "output_type": "stream",
     "text": [
      "Q\n"
     ]
    }
   ],
   "source": [
    "print(\"Q\")"
   ]
  },
  {
   "cell_type": "code",
   "execution_count": 38,
   "metadata": {},
   "outputs": [],
   "source": [
    "import pandas as pd\n",
    "from sheet_utils import overwrite_sheet, get_sheet"
   ]
  },
  {
   "cell_type": "code",
   "execution_count": 39,
   "metadata": {},
   "outputs": [],
   "source": [
    "import json\n",
    "\n",
    "with open(\"questions_0211.jsonl\", \"r\") as f:\n",
    "    json_data = json.load(f)"
   ]
  },
  {
   "cell_type": "code",
   "execution_count": 40,
   "metadata": {},
   "outputs": [],
   "source": [
    "df = pd.DataFrame(json_data)"
   ]
  },
  {
   "cell_type": "code",
   "execution_count": 28,
   "metadata": {},
   "outputs": [],
   "source": [
    "# df[\"example_answer_1\"] = df[\"answers\"].apply(lambda x: x[0])\n",
    "# df[\"example_answer_2\"] = df[\"answers\"].apply(lambda x: x[1])\n",
    "# df[\"example_answer_3\"] = df[\"answers\"].apply(lambda x: x[2])"
   ]
  },
  {
   "cell_type": "code",
   "execution_count": 17,
   "metadata": {},
   "outputs": [],
   "source": [
    "# df.drop(columns=[\"answers\"], inplace=True)"
   ]
  },
  {
   "cell_type": "code",
   "execution_count": 41,
   "metadata": {},
   "outputs": [
    {
     "name": "stdout",
     "output_type": "stream",
     "text": [
      "Null count per column:\n",
      "question                     0\n",
      "example_answer_1             0\n",
      "example_answer_2             0\n",
      "example_answer_3             0\n",
      "incorrect_answer_1           0\n",
      "incorrect_answer_1_reason    0\n",
      "incorrect_answer_2           0\n",
      "incorrect_answer_2_reason    0\n",
      "incorrect_answer_3           0\n",
      "incorrect_answer_3_reason    0\n",
      "context                      0\n",
      "difficulty                   0\n",
      "dtype: int64\n"
     ]
    }
   ],
   "source": [
    "print(\"Null count per column:\")\n",
    "print(df.isnull().sum())"
   ]
  },
  {
   "cell_type": "code",
   "execution_count": 44,
   "metadata": {},
   "outputs": [
    {
     "name": "stderr",
     "output_type": "stream",
     "text": [
      "/var/folders/wl/dn85m0dj6sq9rlt60_rh8_f00000gr/T/ipykernel_10442/3137803720.py:1: DeprecationWarning: [Deprecated][in version 6.0.0]: client_factory will be replaced by gspread.http_client types\n",
      "  sheet = get_sheet(\n"
     ]
    }
   ],
   "source": [
    "sheet = get_sheet(\n",
    "    \"SuiTrivia_Database_20250210\", key=\"18HN0o7sS5zQVAY_NPpSMXVi76z_PZNlfniy5eQQG-ZQ\"\n",
    ")\n",
    "overwrite_sheet(sheet, df)"
   ]
  },
  {
   "cell_type": "code",
   "execution_count": null,
   "metadata": {},
   "outputs": [],
   "source": []
  }
 ],
 "metadata": {
  "kernelspec": {
   "display_name": "base",
   "language": "python",
   "name": "python3"
  },
  "language_info": {
   "codemirror_mode": {
    "name": "ipython",
    "version": 3
   },
   "file_extension": ".py",
   "mimetype": "text/x-python",
   "name": "python",
   "nbconvert_exporter": "python",
   "pygments_lexer": "ipython3",
   "version": "3.11.0"
  }
 },
 "nbformat": 4,
 "nbformat_minor": 2
}
