{
 "cells": [
  {
   "cell_type": "code",
   "execution_count": 37,
   "metadata": {},
   "outputs": [],
   "source": [
    "from datetime import datetime\n",
    "\n",
    "date_str = datetime.now().strftime(\"%Y%m%d\")"
   ]
  },
  {
   "cell_type": "code",
   "execution_count": 38,
   "metadata": {},
   "outputs": [
    {
     "data": {
      "text/plain": [
       "True"
      ]
     },
     "execution_count": 38,
     "metadata": {},
     "output_type": "execute_result"
    }
   ],
   "source": [
    "from qdrant_client import QdrantClient, models\n",
    "import os\n",
    "\n",
    "from dotenv import load_dotenv\n",
    "\n",
    "load_dotenv()\n",
    "\n",
    "client = QdrantClient(url=os.getenv(\"QDRANT_URL\"), api_key=os.getenv(\"QDRANT_API_KEY\"))\n",
    "client.create_collection(\n",
    "    collection_name=f\"{date_str}_scraped\",\n",
    "    vectors_config={\n",
    "        \"content\": models.VectorParams(size=1024, distance=models.Distance.COSINE),\n",
    "        \"paragraph\": models.VectorParams(\n",
    "            size=1024,\n",
    "            distance=models.Distance.COSINE,\n",
    "            multivector_config={\"comparator\": \"max_sim\"},\n",
    "        ),\n",
    "    },\n",
    ")"
   ]
  },
  {
   "cell_type": "code",
   "execution_count": 39,
   "metadata": {},
   "outputs": [],
   "source": [
    "import glob\n",
    "\n",
    "embed_files = glob.glob(f\"{date_str}_*.1.4.json\")"
   ]
  },
  {
   "cell_type": "code",
   "execution_count": 63,
   "metadata": {},
   "outputs": [
    {
     "name": "stdout",
     "output_type": "stream",
     "text": [
      "Uploading 20250207_DeepBook.1.4.json\n",
      "Uploading 20250207_NAVI.1.4.json\n",
      "Uploading 20250207_DoubleUp.1.4.json\n",
      "Uploading 20250207_Walrus.1.4.json\n",
      "Uploading 20250207_Metastable.1.4.json\n",
      "Uploading 20250207_OmniBTC.1.4.json\n",
      "Uploading 20250207_Suilend.1.4.json\n",
      "Uploading 20250207_Bucket Protocol.1.4.json\n",
      "Uploading 20250207_Aftermath.1.4.json\n",
      "Uploading 20250207_Bluefin.1.4.json\n",
      "Uploading 20250207_SuiNS.1.4.json\n",
      "Uploading 20250207_Scallop.1.4.json\n",
      "Uploading 20250207_Mole.1.4.json\n",
      "Uploading 20250207_Strater.1.4.json\n",
      "Uploading 20250207_Kai Finance.1.4.json\n",
      "Uploading 20250207_Kriya.1.4.json\n",
      "Uploading 20250207_Cetus Protocol.1.4.json\n",
      "Uploading 20250207_Sudo Finance.1.4.json\n",
      "Uploading 20250207_Turbos.1.4.json\n",
      "Uploading 20250207_Haedal Protocol.1.4.json\n",
      "Uploading 20250207_Typus.1.4.json\n",
      "Uploading 20250207_FlowX.1.4.json\n",
      "Uploading 20250207_AlphaFi.1.4.json\n",
      "Done\n"
     ]
    }
   ],
   "source": [
    "import json\n",
    "\n",
    "all_data = []\n",
    "index = 1\n",
    "for file in embed_files:\n",
    "    with open(file, \"r\") as f:\n",
    "        print(\"Uploading\", file)\n",
    "        data = json.load(f)\n",
    "        points = []\n",
    "        for payload in data:\n",
    "            embedding = payload.pop(\"embedding\")\n",
    "            paragraph_embeddings = payload.pop(\"paragraph_embeddings\")\n",
    "            if len(paragraph_embeddings) == 0:\n",
    "                paragraph_embeddings = [[0] * 1024]\n",
    "\n",
    "            result = client.upsert(\n",
    "                collection_name=f\"{date_str}_scraped\",\n",
    "                points=[\n",
    "                    models.PointStruct(\n",
    "                        id=index,\n",
    "                        vector={\n",
    "                            \"content\": embedding,\n",
    "                            \"paragraph\": paragraph_embeddings,\n",
    "                        },\n",
    "                        payload=payload,\n",
    "                    )\n",
    "                ],\n",
    "            )\n",
    "            index += 1\n",
    "print(\"Done\")"
   ]
  },
  {
   "cell_type": "code",
   "execution_count": null,
   "metadata": {},
   "outputs": [],
   "source": []
  }
 ],
 "metadata": {
  "kernelspec": {
   "display_name": "base",
   "language": "python",
   "name": "python3"
  },
  "language_info": {
   "codemirror_mode": {
    "name": "ipython",
    "version": 3
   },
   "file_extension": ".py",
   "mimetype": "text/x-python",
   "name": "python",
   "nbconvert_exporter": "python",
   "pygments_lexer": "ipython3",
   "version": "3.11.0"
  }
 },
 "nbformat": 4,
 "nbformat_minor": 2
}
