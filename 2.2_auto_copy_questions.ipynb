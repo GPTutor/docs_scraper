{
 "cells": [
  {
   "cell_type": "code",
   "execution_count": 2,
   "metadata": {},
   "outputs": [],
   "source": [
    "from selenium import webdriver\n",
    "from selenium.webdriver.common.by import By\n",
    "from selenium.webdriver.support.ui import WebDriverWait\n",
    "from selenium.webdriver.support import expected_conditions as EC\n",
    "\n",
    "# Initialize the webdriver (using Brave browser)\n",
    "brave_path = \"/Applications/Brave Browser.app/Contents/MacOS/Brave Browser\"\n",
    "options = webdriver.ChromeOptions()\n",
    "options.binary_location = brave_path\n",
    "driver = webdriver.Chrome(options=options)\n",
    "\n",
    "# Navigate to X.com (formerly Twitter)\n",
    "driver.get(\"https://x.com\")\n",
    "\n",
    "# Wait for the page to load\n",
    "wait = WebDriverWait(driver, 10)"
   ]
  },
  {
   "cell_type": "code",
   "execution_count": 26,
   "metadata": {},
   "outputs": [
    {
     "name": "stdout",
     "output_type": "stream",
     "text": [
      "Found 22 copy buttons\n"
     ]
    }
   ],
   "source": [
    "# Find all copy buttons\n",
    "copy_buttons = driver.find_elements(\n",
    "    By.CSS_SELECTOR, 'button[aria-label=\"Copy to clipboard\"]'\n",
    ")\n",
    "\n",
    "# Print the number of copy buttons found\n",
    "print(f\"Found {len(copy_buttons)} copy buttons\")"
   ]
  },
  {
   "cell_type": "code",
   "execution_count": 36,
   "metadata": {},
   "outputs": [
    {
     "name": "stdout",
     "output_type": "stream",
     "text": [
      "Found 22 JSON code blocks\n"
     ]
    }
   ],
   "source": [
    "# Find all code blocks with language-json class\n",
    "json_code_blocks = driver.find_elements(By.CSS_SELECTOR, \"code.language-json\")\n",
    "\n",
    "# Print the number of JSON code blocks found\n",
    "print(f\"Found {len(json_code_blocks)} JSON code blocks\")"
   ]
  },
  {
   "cell_type": "code",
   "execution_count": 37,
   "metadata": {},
   "outputs": [
    {
     "name": "stdout",
     "output_type": "stream",
     "text": [
      "Error parsing JSON: Unterminated string starting at: line 50 column 38 (char 5416)\n",
      "Error parsing JSON: Extra data: line 59 column 1 (char 6366)\n",
      "Successfully parsed 79 JSON objects\n"
     ]
    }
   ],
   "source": [
    "import json\n",
    "\n",
    "# Initialize list to store JSON objects\n",
    "json_objects = []\n",
    "\n",
    "# Iterate through each JSON code block and parse the text\n",
    "for code_block in json_code_blocks:\n",
    "    try:\n",
    "        # Get the text content of the code block\n",
    "        json_text = code_block.text\n",
    "        # Parse the JSON text into a Python object\n",
    "        json_obj = json.loads(json_text)\n",
    "        # Add to our list\n",
    "        json_objects.extend(json_obj)\n",
    "    except json.JSONDecodeError as e:\n",
    "        print(f\"Error parsing JSON: {e}\")\n",
    "json_objects = [j for j in json_objects if isinstance(j, dict)]\n",
    "print(f\"Successfully parsed {len(json_objects)} JSON objects\")"
   ]
  },
  {
   "cell_type": "code",
   "execution_count": 38,
   "metadata": {},
   "outputs": [],
   "source": [
    "import pandas as pd\n",
    "\n",
    "df = pd.DataFrame(json_objects)"
   ]
  },
  {
   "cell_type": "code",
   "execution_count": 41,
   "metadata": {},
   "outputs": [],
   "source": [
    "q = \"How does @SuiNetwork's environmental impact compare favorably to other blockchains? 🌿 #SuiEnvironmentalImpact\""
   ]
  },
  {
   "cell_type": "code",
   "execution_count": 42,
   "metadata": {},
   "outputs": [],
   "source": [
    "def changeHashTag(text):\n",
    "    if \"#Sui\" in text and \"#Sui \" not in text:\n",
    "        text = text.replace(\"#Sui\", \"#Sui #\")\n",
    "    else:\n",
    "        text += \" #Sui\"\n",
    "\n",
    "    if \"#Trivia\" not in text:\n",
    "        text += \" #Trivia\"\n",
    "    return text\n",
    "\n",
    "\n",
    "df.question = df.question.map(changeHashTag)"
   ]
  },
  {
   "cell_type": "code",
   "execution_count": 43,
   "metadata": {},
   "outputs": [
    {
     "name": "stderr",
     "output_type": "stream",
     "text": [
      "/var/folders/wl/dn85m0dj6sq9rlt60_rh8_f00000gr/T/ipykernel_37661/3829615231.py:3: DeprecationWarning: [Deprecated][in version 6.0.0]: client_factory will be replaced by gspread.http_client types\n",
      "  sheet = get_sheet(\n"
     ]
    }
   ],
   "source": [
    "from sheet_utils import overwrite_sheet, get_sheet\n",
    "\n",
    "sheet = get_sheet(\n",
    "    \"SuiTrivia_Database_20250212\", key=\"18HN0o7sS5zQVAY_NPpSMXVi76z_PZNlfniy5eQQG-ZQ\"\n",
    ")\n",
    "overwrite_sheet(sheet, df)"
   ]
  },
  {
   "cell_type": "code",
   "execution_count": null,
   "metadata": {},
   "outputs": [],
   "source": []
  }
 ],
 "metadata": {
  "kernelspec": {
   "display_name": "base",
   "language": "python",
   "name": "python3"
  },
  "language_info": {
   "codemirror_mode": {
    "name": "ipython",
    "version": 3
   },
   "file_extension": ".py",
   "mimetype": "text/x-python",
   "name": "python",
   "nbconvert_exporter": "python",
   "pygments_lexer": "ipython3",
   "version": "3.11.0"
  }
 },
 "nbformat": 4,
 "nbformat_minor": 2
}
